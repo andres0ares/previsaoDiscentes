{
 "cells": [
  {
   "cell_type": "code",
   "execution_count": null,
   "id": "22779f04",
   "metadata": {},
   "outputs": [],
   "source": [
    "hbjhbhbhb"
   ]
  },
  {
   "cell_type": "code",
   "execution_count": null,
   "id": "00b3c30c",
   "metadata": {},
   "outputs": [],
   "source": [
    "eweeee"
   ]
  }
 ],
 "metadata": {
  "kernelspec": {
   "display_name": "Python 3",
   "language": "python",
   "name": "python3"
  },
  "language_info": {
   "name": "python",
   "version": "3.12.3"
  }
 },
 "nbformat": 4,
 "nbformat_minor": 5
}
